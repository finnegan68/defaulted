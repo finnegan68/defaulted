{
 "cells": [
  {
   "cell_type": "code",
   "execution_count": 16,
   "metadata": {},
   "outputs": [
    {
     "data": {
      "text/plain": [
       "True"
      ]
     },
     "execution_count": 16,
     "metadata": {},
     "output_type": "execute_result"
    }
   ],
   "source": [
    "def is_transposition(s1, s2):\n",
    "    if sorted(s1) == sorted(s2):\n",
    "        return True\n",
    "    return False\n",
    "\n",
    "foo('oll', 'lol')"
   ]
  },
  {
   "cell_type": "code",
   "execution_count": 36,
   "metadata": {},
   "outputs": [
    {
     "data": {
      "text/plain": [
       "'a2b1c5a3'"
      ]
     },
     "execution_count": 36,
     "metadata": {},
     "output_type": "execute_result"
    }
   ],
   "source": [
    "def compression(s):\n",
    "    new_str = ''\n",
    "    current_letter = s[0]\n",
    "    n = 1\n",
    "    for i in range(1, len(s)):\n",
    "        if s[i] == current_letter:\n",
    "            n+=1\n",
    "            continue\n",
    "        else:\n",
    "            new_str += current_letter + str(n)\n",
    "            current_letter = s[i]\n",
    "            n = 1\n",
    "    new_str += current_letter + str(n)\n",
    "    return new_str\n",
    "        \n",
    "        \n",
    "compression('aabcccccaaa')"
   ]
  },
  {
   "cell_type": "code",
   "execution_count": 81,
   "metadata": {},
   "outputs": [],
   "source": [
    "#Generate file\n",
    "import random\n",
    "\n",
    "MAX_LINES, LINE_LEN = random.randint(5,20), random.randint(5,20)\n",
    "\n",
    "f= open(\"my_file.txt\",\"w+\")\n",
    "\n",
    "for line in range(MAX_LINES):\n",
    "    s = ''\n",
    "    for i in range(LINE_LEN):\n",
    "        num = str(random.randint(1,10)) \n",
    "        s += num + \" \"\n",
    "    s += '\\n'\n",
    "    f.write(s)\n",
    "    \n",
    "f.close() \n",
    "\n",
    "#Read\n",
    "num_lines = int(input('insert num of last lines you want to get from file: '))\n",
    "\n",
    "\n",
    "f= open(\"my_file.txt\",\"r\")\n",
    "lines = f.readlines()[-num_lines:]\n",
    "f.close()\n",
    "for line in lines:\n",
    "    print(line)"
   ]
  },
  {
   "cell_type": "code",
   "execution_count": null,
   "metadata": {},
   "outputs": [],
   "source": []
  }
 ],
 "metadata": {
  "kernelspec": {
   "display_name": "Python 3",
   "language": "python",
   "name": "python3"
  },
  "language_info": {
   "codemirror_mode": {
    "name": "ipython",
    "version": 3
   },
   "file_extension": ".py",
   "mimetype": "text/x-python",
   "name": "python",
   "nbconvert_exporter": "python",
   "pygments_lexer": "ipython3",
   "version": "3.7.3"
  }
 },
 "nbformat": 4,
 "nbformat_minor": 2
}
